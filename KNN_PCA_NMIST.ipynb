{
  "nbformat": 4,
  "nbformat_minor": 0,
  "metadata": {
    "colab": {
      "name": "KNN_PCA_NMIST",
      "provenance": [],
      "collapsed_sections": []
    },
    "kernelspec": {
      "name": "python3",
      "display_name": "Python 3"
    }
  },
  "cells": [
    {
      "cell_type": "code",
      "metadata": {
        "id": "wSKGQmt-vydy",
        "colab_type": "code",
        "outputId": "5d2b2364-6c28-49f3-f409-27f09d09af21",
        "colab": {
          "base_uri": "https://localhost:8080/",
          "height": 197
        }
      },
      "source": [
        "from keras.datasets import fashion_mnist\n",
        "import numpy as np \n",
        "import matplotlib.pyplot as plt\n",
        "((trainX, trainY), (testX, testY)) = fashion_mnist.load_data()"
      ],
      "execution_count": 0,
      "outputs": [
        {
          "output_type": "stream",
          "text": [
            "Using TensorFlow backend.\n"
          ],
          "name": "stderr"
        },
        {
          "output_type": "stream",
          "text": [
            "Downloading data from http://fashion-mnist.s3-website.eu-central-1.amazonaws.com/train-labels-idx1-ubyte.gz\n",
            "32768/29515 [=================================] - 0s 3us/step\n",
            "Downloading data from http://fashion-mnist.s3-website.eu-central-1.amazonaws.com/train-images-idx3-ubyte.gz\n",
            "26427392/26421880 [==============================] - 2s 0us/step\n",
            "Downloading data from http://fashion-mnist.s3-website.eu-central-1.amazonaws.com/t10k-labels-idx1-ubyte.gz\n",
            "8192/5148 [===============================================] - 0s 0us/step\n",
            "Downloading data from http://fashion-mnist.s3-website.eu-central-1.amazonaws.com/t10k-images-idx3-ubyte.gz\n",
            "4423680/4422102 [==============================] - 1s 0us/step\n"
          ],
          "name": "stdout"
        }
      ]
    },
    {
      "cell_type": "code",
      "metadata": {
        "id": "Zg7WJB2D0CbC",
        "colab_type": "code",
        "outputId": "8b5c6583-dc21-4bd1-e441-93ad14f03fd9",
        "colab": {
          "base_uri": "https://localhost:8080/",
          "height": 88
        }
      },
      "source": [
        "testX=testX.reshape([10000,784])\n",
        "trainX= trainX.reshape([60000,784])\n",
        "print(trainX.shape)\n",
        "print(trainY.shape)\n",
        "print(testX.shape)\n",
        "print(testY.shape)"
      ],
      "execution_count": 0,
      "outputs": [
        {
          "output_type": "stream",
          "text": [
            "(60000, 784)\n",
            "(60000,)\n",
            "(10000, 784)\n",
            "(10000,)\n"
          ],
          "name": "stdout"
        }
      ]
    },
    {
      "cell_type": "code",
      "metadata": {
        "id": "0E2Dccrdvfke",
        "colab_type": "code",
        "colab": {}
      },
      "source": [
        "def pca_np(x):\n",
        "  #centering data\n",
        "  m = np.mean(x, axis =0)\n",
        "  x_centered = x - m\n",
        "  #calculating covariance matrix\n",
        "  x_cov=np.cov(x_centered.T)\n",
        "  #eigendecompositiont\n",
        "  eigenvals, eigenvecs = np.linalg.eig(x_cov)\n",
        "  #sorting\n",
        "  i= np.argsort(eigenvals)[::-1]\n",
        "  eigenvecs = eigenvecs[:,i]\n",
        "  eigenvals= eigenvals[i]\n",
        "  #returning the eigenvalues, eigenvectors and means\n",
        "  return(eigenvals, eigenvecs, m)"
      ],
      "execution_count": 0,
      "outputs": []
    },
    {
      "cell_type": "code",
      "metadata": {
        "id": "yOVaJ8ZVU-mp",
        "colab_type": "code",
        "outputId": "64ca77ef-3830-464e-b8a3-3367aee1d500",
        "colab": {
          "base_uri": "https://localhost:8080/",
          "height": 266
        }
      },
      "source": [
        "evals, evecs, train_mean = pca_np(trainX)\n",
        "\n",
        "exp_var =evals/sum(evals)\n",
        "\n",
        "#plot % of variance explained\n",
        "plt.bar(range(1,21),exp_var[:20])\n",
        "\n",
        "from google.colab import files\n",
        "plt.savefig(\"eval.png\")\n",
        "files.download(\"eval.png\") \n",
        "\n",
        "\n"
      ],
      "execution_count": 0,
      "outputs": [
        {
          "output_type": "display_data",
          "data": {
            "image/png": "[encoded data removed]",
            "text/plain": [
              "<Figure size 432x288 with 1 Axes>"
            ]
          },
          "metadata": {
            "tags": [],
            "needs_background": "light"
          }
        }
      ]
    },
    {
      "cell_type": "code",
      "metadata": {
        "id": "jdNSXh0X2Uh8",
        "colab_type": "code",
        "outputId": "40b41565-dc37-41c2-b8ff-1aea6b566bd1",
        "colab": {
          "base_uri": "https://localhost:8080/",
          "height": 35
        }
      },
      "source": [
        "sum(evals[:10])/sum(evals)"
      ],
      "execution_count": 0,
      "outputs": [
        {
          "output_type": "execute_result",
          "data": {
            "text/plain": [
              "0.7199082703777664"
            ]
          },
          "metadata": {
            "tags": []
          },
          "execution_count": 11
        }
      ]
    },
    {
      "cell_type": "code",
      "metadata": {
        "id": "BZ0AlLLy2oBy",
        "colab_type": "code",
        "outputId": "5b489772-f969-4a13-b770-e79f3e9f0528",
        "colab": {
          "base_uri": "https://localhost:8080/",
          "height": 52
        }
      },
      "source": [
        "n =10 \n",
        "X_evecs_n = evecs[:,:n]\n",
        "#projecting the training and test data back onto the retained eigenvectors to get our factors for use in KNN\n",
        "trainX_factors = np.dot(trainX-train_mean,X_evecs_n)\n",
        "testX_factors= np.dot(testX-train_mean,X_evecs_n)\n",
        "#checking dimension after PCA\n",
        "print(trainX_factors.shape)\n",
        "print(testX_factors.shape)\n"
      ],
      "execution_count": 0,
      "outputs": [
        {
          "output_type": "stream",
          "text": [
            "(60000, 10)\n",
            "(10000, 10)\n"
          ],
          "name": "stdout"
        }
      ]
    },
    {
      "cell_type": "code",
      "metadata": {
        "id": "PbVtgrHK05kR",
        "colab_type": "code",
        "colab": {}
      },
      "source": [
        "import numpy as np\n",
        "import time\n",
        "\n",
        "def knn_np(x_train, y_train, K, X_test, dist = 'euclidean'):\n",
        "    if dist !='euclidean' :\n",
        "        dist = (abs(X_test - x_train)).sum(axis = 1)\n",
        "    else:\n",
        "        dist = np.sqrt(((X_test - x_train)**2).sum(axis=1)) \n",
        "        \n",
        "        \n",
        "\n",
        "    arg_ascending = np.argsort(dist)\n",
        "    \n",
        "    classes = np.zeros(10)\n",
        "    \n",
        "    for i in range(k):\n",
        "            if y_train[arg_ascending[i]]==0: #class = 0\n",
        "                classes[0] += 1\n",
        "            elif y_train[arg_ascending[i]]==1: #class = 1\n",
        "                classes[1] += 1\n",
        "            elif y_train[arg_ascending[i]]==2: #class = 2\n",
        "                classes[2] += 1\n",
        "            elif y_train[arg_ascending[i]]==3: #class = 3\n",
        "                classes[3] += 1\n",
        "            elif y_train[arg_ascending[i]]==4: #class = 4\n",
        "                classes[4] += 1\n",
        "            elif y_train[arg_ascending[i]]==5: #class = 5\n",
        "                classes[5] += 1\n",
        "            elif y_train[arg_ascending[i]]==6: #class = 6\n",
        "                classes[6] += 1\n",
        "            elif y_train[arg_ascending[i]]==7: #class = 7\n",
        "                classes[7] += 1\n",
        "            elif y_train[arg_ascending[i]]==8: #class = 8\n",
        "                classes[8] += 1\n",
        "            elif y_train[arg_ascending[i]]==9: #class = 9\n",
        "                classes[9] += 1\n",
        "           \n",
        "            \n",
        "    return np.argmax(classes)\n",
        "\n",
        "\n"
      ],
      "execution_count": 0,
      "outputs": []
    },
    {
      "cell_type": "code",
      "metadata": {
        "id": "ALWjp3bA4dKi",
        "colab_type": "code",
        "outputId": "5e241586-4c8c-49ff-95d9-4bc86cfb6177",
        "colab": {
          "base_uri": "https://localhost:8080/",
          "height": 52
        }
      },
      "source": [
        "import time\n",
        "\n",
        "k=10\n",
        "wrong = 0\n",
        "#iterating through every point in test set and applying knn\n",
        "start_time = time.time()\n",
        "for i in range(testX_factors.shape[0]):\n",
        "    prediction = knn_np(trainX_factors, trainY, k, testX_factors[i], dist='manhattan')\n",
        "    if prediction != testY[i]:\n",
        "        wrong += 1\n",
        "\n",
        "end_time = time.time()\n",
        "print(\"Accuracy=\", 1-wrong/testX_factors.shape[0])\n",
        "print(\"----Runtime:%.0fmin%.0fs----\" %((end_time- start_time) // 60, (end_time- start_time) % 60))\n"
      ],
      "execution_count": 0,
      "outputs": [
        {
          "output_type": "stream",
          "text": [
            "Accuracy= 0.815\n",
            "----Runtime:1min25s----\n"
          ],
          "name": "stdout"
        }
      ]
    }
  ]
}