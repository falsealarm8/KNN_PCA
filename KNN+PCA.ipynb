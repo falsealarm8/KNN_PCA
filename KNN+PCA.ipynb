{
 "cells": [
  {
   "cell_type": "code",
   "execution_count": 7,
   "metadata": {},
   "outputs": [
    {
     "name": "stdout",
     "output_type": "stream",
     "text": [
      "done\n"
     ]
    }
   ],
   "source": [
    "#KNN PCA pipeline\n",
    "#import data\n",
    "\n",
    "import h5py\n",
    "import numpy as np\n",
    "#import data\n",
    "with h5py.File('images_training.h5','r') as H:\n",
    "    data = np.copy(H['data'])\n",
    "with h5py.File('labels_training.h5','r') as H:\n",
    "    label = np.copy(H['label'])\n",
    "with h5py.File('images_testing.h5','r') as H:\n",
    "    test_data = np.copy(H['data'])\n",
    "    \n",
    "with h5py.File('labels_testing_2000.h5','r') as H:\n",
    "    test_labels = np.copy(H['label'])\n",
    "print('done')"
   ]
  },
  {
   "cell_type": "code",
   "execution_count": 8,
   "metadata": {},
   "outputs": [
    {
     "name": "stdout",
     "output_type": "stream",
     "text": [
      "(5000, 784)\n",
      "(30000, 784)\n"
     ]
    }
   ],
   "source": [
    "#Reshapping Data\n",
    "test_data=test_data.reshape([5000,784])\n",
    "training_data = data.reshape([30000,784])\n",
    "print(test_data.shape)\n",
    "print(training_data.shape)"
   ]
  },
  {
   "cell_type": "code",
   "execution_count": 21,
   "metadata": {
    "collapsed": true
   },
   "outputs": [],
   "source": [
    "#PCA\n",
    "import numpy as np\n",
    "\n",
    "#components to keep\n",
    "ncomp = 15\n",
    "\n",
    "#centering\n",
    "M = np.mean(training_data,axis=0)\n",
    "x = training_data - M\n",
    "\n",
    "cov = np.cov(x.T)\n",
    "\n",
    "evals , evecs = np.linalg.eigh(cov)\n",
    "\n",
    "#sort eigenvalue, eigenvector pairs\n",
    "idx = np.argsort(evals)[::-1]\n",
    "\n",
    "evecs = evecs[:,idx]\n",
    "\n",
    "evals = evals[idx]\n",
    "\n",
    "#slice components\n",
    "n_evecs = evecs[:,:ncomp]\n",
    "\n",
    "#project back on training set for factors matrix\n",
    "factors_train = np.dot(x, n_evecs)"
   ]
  },
  {
   "cell_type": "code",
   "execution_count": 22,
   "metadata": {},
   "outputs": [],
   "source": [
    "#Transforming test set into factors using eigenvectors from training set decomposition\n",
    "\n",
    "M_test = np.mean(test_data,axis=0)\n",
    "\n",
    "x_test = test_data - M_test\n",
    "\n",
    "factors_test = np.dot(x_test, n_evecs) \n"
   ]
  },
  {
   "cell_type": "code",
   "execution_count": 47,
   "metadata": {
    "collapsed": true
   },
   "outputs": [],
   "source": [
    "#KNN with distance selection function, 0 = euclidean, 1 = manhattan\n",
    "def calc_knn(x_train, y_train, K, X_test, dist = 0):\n",
    "    if dist != 0:\n",
    "        dist = (abs(X_test - x_train)).sum(axis = 1)\n",
    "    else:\n",
    "        dist = np.sqrt(((X_test - x_train)**2).sum(axis=1)) \n",
    "        \n",
    "        \n",
    "\n",
    "    arg_ascending = np.argsort(dist)\n",
    "    \n",
    "    classes = np.zeros(10)\n",
    "    \n",
    "    for i in range(k):\n",
    "            if y_train[arg_ascending[i]]==0: #class = 0\n",
    "                classes[0] += 1\n",
    "            elif y_train[arg_ascending[i]]==1: #class = 1\n",
    "                classes[1] += 1\n",
    "            elif y_train[arg_ascending[i]]==2: #class = 2\n",
    "                classes[2] += 1\n",
    "            elif y_train[arg_ascending[i]]==3: #class = 3\n",
    "                classes[3] += 1\n",
    "            elif y_train[arg_ascending[i]]==4: #class = 4\n",
    "                classes[4] += 1\n",
    "            elif y_train[arg_ascending[i]]==5: #class = 5\n",
    "                classes[5] += 1\n",
    "            elif y_train[arg_ascending[i]]==6: #class = 6\n",
    "                classes[6] += 1\n",
    "            elif y_train[arg_ascending[i]]==7: #class = 7\n",
    "                classes[7] += 1\n",
    "            elif y_train[arg_ascending[i]]==8: #class = 8\n",
    "                classes[8] += 1\n",
    "            elif y_train[arg_ascending[i]]==9: #class = 9\n",
    "                classes[9] += 1\n",
    "            else:\n",
    "                print('Error - Invalid class')\n",
    "            \n",
    "    return np.argmax(classes)\n",
    "    "
   ]
  },
  {
   "cell_type": "code",
   "execution_count": 48,
   "metadata": {},
   "outputs": [
    {
     "name": "stdout",
     "output_type": "stream",
     "text": [
      "accuracy= 0.8285\n",
      "Cost time: 0.00min, 30.5743s.\n"
     ]
    }
   ],
   "source": [
    "#run KNN on test set factors\n",
    "import time\n",
    "k=8\n",
    "wrong = 0\n",
    "t1 = time.time()\n",
    "for i in range(2000):\n",
    "    predict = calc_knn(factors_train, label, k, factors_test[i],1)\n",
    "    if predict != test_labels[i]:\n",
    "        wrong += 1\n",
    "print(\"accuracy=\", 1-wrong/2000)\n",
    "t2 = time.time()\n",
    "print(\"Cost time: %.2fmin, %.4fs.\" % ((t2 - t1) // 60, (t2 - t1) % 60))"
   ]
  }
 ],
 "metadata": {
  "kernelspec": {
   "display_name": "Python 3",
   "language": "python",
   "name": "python3"
  },
  "language_info": {
   "codemirror_mode": {
    "name": "ipython",
    "version": 3
   },
   "file_extension": ".py",
   "mimetype": "text/x-python",
   "name": "python",
   "nbconvert_exporter": "python",
   "pygments_lexer": "ipython3",
   "version": "3.6.3"
  }
 },
 "nbformat": 4,
 "nbformat_minor": 2
}
